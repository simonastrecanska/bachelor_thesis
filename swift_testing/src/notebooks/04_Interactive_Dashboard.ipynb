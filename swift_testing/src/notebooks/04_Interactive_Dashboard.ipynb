{
 "cells": [
  {
   "cell_type": "markdown",
   "metadata": {},
   "source": [
    "# Interactive Dashboard\n",
    "\n",
    "This notebook uses interactive widgets to enable dynamic filtering and exploration of your data. You can examine subsets of messages based on their confidence scores, expected labels, or other criteria. \n",
    "\n",
    "For example, you can filter the merged DataFrame (which contains your expected and actual results) by a confidence score range and by expected label. Adjust the sliders and dropdowns below to explore the data interactively.\n",
    "\n",
    "**Note:** This notebook assumes that `merged_df` is available from previous processing (e.g., after running the Basic Analytics notebook)."
   ]
  },
  {
   "cell_type": "code",
   "execution_count": 1,
   "metadata": {},
   "outputs": [
    {
     "name": "stdout",
     "output_type": "stream",
     "text": [
      "Engine recreated from stored connection string.\n",
      "merged_df is available for interactive filtering.\n"
     ]
    }
   ],
   "source": [
    "import ipywidgets as widgets\n",
    "from IPython.display import display\n",
    "\n",
    "# Retrieve connection string and recreate engine\n",
    "%store -r db_uri\n",
    "from sqlalchemy import create_engine\n",
    "engine = create_engine(db_uri)\n",
    "print(\"Engine recreated from stored connection string.\")\n",
    "\n",
    "%store -r merged_df\n",
    "\n",
    "try:\n",
    "    merged_df\n",
    "    print(\"merged_df is available for interactive filtering.\")\n",
    "except NameError:\n",
    "    print(\"merged_df is not defined. Please run the previous notebooks to generate merged_df.\")"
   ]
  },
  {
   "cell_type": "code",
   "execution_count": 2,
   "metadata": {},
   "outputs": [
    {
     "data": {
      "application/vnd.jupyter.widget-view+json": {
       "model_id": "c3a22c1d1d1e4ef3873852dc01e5e57d",
       "version_major": 2,
       "version_minor": 0
      },
      "text/plain": [
       "VBox(children=(FloatRangeSlider(value=(0.0, 1.0), continuous_update=False, description='Confidence Range:', ma…"
      ]
     },
     "metadata": {},
     "output_type": "display_data"
    },
    {
     "data": {
      "application/vnd.jupyter.widget-view+json": {
       "model_id": "432927b43ba541d886251e04ee416b8f",
       "version_major": 2,
       "version_minor": 0
      },
      "text/plain": [
       "Output()"
      ]
     },
     "metadata": {},
     "output_type": "display_data"
    }
   ],
   "source": [
    "def filter_data(conf_range, expected_label):\n",
    "    min_conf, max_conf = conf_range\n",
    "    \n",
    "    filtered_data = merged_df[(merged_df['confidence'] >= min_conf) & (merged_df['confidence'] <= max_conf)]\n",
    "    \n",
    "    if expected_label != \"All\":\n",
    "        filtered_data = filtered_data[filtered_data['expected_label'] == expected_label]\n",
    "    \n",
    "    print(f\"Displaying {filtered_data.shape[0]} records matching the criteria:\")\n",
    "    display(filtered_data.head(20))\n",
    "\n",
    "confidence_slider = widgets.FloatRangeSlider(\n",
    "    value=[0.0, 1.0],\n",
    "    min=0.0,\n",
    "    max=1.0,\n",
    "    step=0.01,\n",
    "    description='Confidence Range:',\n",
    "    continuous_update=False\n",
    ")\n",
    "\n",
    "expected_labels = merged_df['expected_label'].unique().tolist()\n",
    "expected_label_options = [\"All\"] + expected_labels\n",
    "\n",
    "expected_label_dropdown = widgets.Dropdown(\n",
    "    options=expected_label_options,\n",
    "    value=\"All\",\n",
    "    description='Expected Label:'\n",
    ")\n",
    "\n",
    "ui = widgets.VBox([confidence_slider, expected_label_dropdown])\n",
    "\n",
    "out = widgets.interactive_output(filter_data, {\n",
    "    'conf_range': confidence_slider,\n",
    "    'expected_label': expected_label_dropdown\n",
    "})\n",
    "\n",
    "display(ui, out)"
   ]
  },
  {
   "cell_type": "markdown",
   "metadata": {},
   "source": [
    "This interactive dashboard allows you to drill down into the data and explore error patterns or confidence score distributions in real time."
   ]
  }
 ],
 "metadata": {
  "kernelspec": {
   "display_name": "Python 3 (ipykernel)",
   "language": "python",
   "name": "python3"
  },
  "language_info": {
   "codemirror_mode": {
    "name": "ipython",
    "version": 3
   },
   "file_extension": ".py",
   "mimetype": "text/x-python",
   "name": "python",
   "nbconvert_exporter": "python",
   "pygments_lexer": "ipython3",
   "version": "3.13.2"
  }
 },
 "nbformat": 4,
 "nbformat_minor": 4
}
