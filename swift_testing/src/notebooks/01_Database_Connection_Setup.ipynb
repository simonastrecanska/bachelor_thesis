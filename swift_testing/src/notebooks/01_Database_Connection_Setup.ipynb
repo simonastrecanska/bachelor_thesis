{
 "cells": [
  {
   "cell_type": "markdown",
   "metadata": {},
   "source": [
    "# Database Connection and Setup\n",
    "\n",
    "This notebook is dedicated to setting up the environment, loading configuration files, and testing connectivity to your database.\n",
    "\n",
    "## What this notebook does:\n",
    "- Loads a YAML configuration file.\n",
    "- Constructs a database connection string based on your configuration.\n",
    "- Tests the connection to the database using SQLAlchemy."
   ]
  },
  {
   "cell_type": "code",
   "execution_count": 2,
   "metadata": {},
   "outputs": [
    {
     "name": "stdout",
     "output_type": "stream",
     "text": [
      "Found config file at: ../../config/config.yaml\n",
      "Config loaded successfully\n"
     ]
    }
   ],
   "source": [
    "import yaml\n",
    "\n",
    "possible_config_paths = [\n",
    "    \"../../config/config.yaml\",\n",
    "]\n",
    "\n",
    "config_path = None\n",
    "for path in possible_config_paths:\n",
    "    if os.path.exists(path):\n",
    "        config_path = path\n",
    "        print(f\"Found config file at: {path}\")\n",
    "        break\n",
    "\n",
    "if not config_path:\n",
    "    raise FileNotFoundError(f\"Config file not found. Tried these paths: {possible_config_paths}\")\n",
    "\n",
    "with open(config_path, \"r\") as f:\n",
    "    config = yaml.safe_load(f)\n",
    "\n",
    "print(\"Config loaded successfully\")"
   ]
  },
  {
   "cell_type": "code",
   "execution_count": null,
   "metadata": {},
   "outputs": [],
   "source": [
    "from sqlalchemy import create_engine, text\n",
    "\n",
    "if 'database' in config and 'connection_string' in config['database']:\n",
    "    db_uri = config['database']['connection_string']\n",
    "    print(f\"Using connection string from config: {db_uri}\")\n",
    "else:\n",
    "    db_config = config.get('database', {})\n",
    "    username = db_config.get('username', '')\n",
    "    password = db_config.get('password', '')\n",
    "    host = db_config.get('host', 'localhost')\n",
    "    port = db_config.get('port', 5432)\n",
    "    dbname = db_config.get('dbname', 'postgres')\n",
    "    sslmode = db_config.get('sslmode', 'prefer')\n",
    "    \n",
    "    db_uri = f\"postgresql://{username}:{password}@{host}:{port}/{dbname}?sslmode={sslmode}\"\n",
    "    print(f\"Built connection string: {db_uri}\")"
   ]
  },
  {
   "cell_type": "code",
   "execution_count": null,
   "metadata": {},
   "outputs": [],
   "source": [
    "from sqlalchemy import create_engine, text\n",
    "\n",
    "try:\n",
    "    print(f\"Using connection string from config: {db_uri}\")\n",
    "    engine = create_engine(db_uri)\n",
    "    print(\"Engine created successfully\")\n",
    "    \n",
    "    # Save the connection string for later use in other notebooks\n",
    "    %store db_uri\n",
    "    \n",
    "    with engine.connect() as connection:\n",
    "        result = connection.execute(text(\"SELECT 1 as test\"))\n",
    "        test_output = result.scalar()\n",
    "        print(f\"Test query executed successfully: {test_output}\")\n",
    "        \n",
    "        result = connection.execute(text(\"SELECT table_name FROM information_schema.tables WHERE table_schema='public'\"))\n",
    "        tables = [row[0] for row in result]\n",
    "        print(f\"Tables in the database: {tables}\")\n",
    "\n",
    "        print(\"Engine created!\")\n",
    "\n",
    "except Exception as e:\n",
    "    print(f\"Error connecting to the database: {e}\")"
   ]
  },
  {
   "cell_type": "markdown",
   "metadata": {},
   "source": [
    "## Next Steps\n",
    "\n",
    "Once this notebook executes without errors, your environment is correctly configured and connected to the database. You can then proceed to use this setup for further analysis in subsequent notebooks."
   ]
  }
 ],
 "metadata": {
  "kernelspec": {
   "display_name": "Python 3 (ipykernel)",
   "language": "python",
   "name": "python3"
  },
  "language_info": {
   "codemirror_mode": {
    "name": "ipython",
    "version": 3
   },
   "file_extension": ".py",
   "mimetype": "text/x-python",
   "name": "python",
   "nbconvert_exporter": "python",
   "pygments_lexer": "ipython3",
   "version": "3.13.2"
  }
 },
 "nbformat": 4,
 "nbformat_minor": 4
}
